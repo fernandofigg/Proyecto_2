{
 "cells": [
  {
   "cell_type": "markdown",
   "metadata": {},
   "source": [
    "## Proyecto 2 de simulación matemática\n",
    "#### Mòdulo: integración Montecarlo"
   ]
  },
  {
   "cell_type": "markdown",
   "metadata": {},
   "source": [
    "##### Presentan:\n",
    "Juan Diego Hermosillo\n",
    "\n",
    "Jonathan Flores Mercado \n",
    "\n",
    "Fernando González García Figueroa"
   ]
  },
  {
   "cell_type": "markdown",
   "metadata": {},
   "source": [
    "En el presente trabajo, se busca cumplir los objetivos mediante un acercamiento práctico de la integración Montecarlo, lo cual consiste en el cálculo del área de dos figuras mediante la generación de números aleatorios y su integración. A continuación se muestra el proceso en código."
   ]
  },
  {
   "cell_type": "code",
   "execution_count": 2,
   "metadata": {},
   "outputs": [],
   "source": [
    "#Importamos las libreriás necesarias\n",
    "import numpy as np\n",
    "import matplotlib.pyplot as plt"
   ]
  },
  {
   "cell_type": "markdown",
   "metadata": {},
   "source": [
    "Función $y1 = \\sqrt(x)$\n",
    "Función $y2 = x^3$"
   ]
  },
  {
   "cell_type": "code",
   "execution_count": 19,
   "metadata": {},
   "outputs": [
    {
     "data": {
      "text/plain": [
       "Text(8.5, 400, '$\\\\mathcal{D}$')"
      ]
     },
     "execution_count": 19,
     "metadata": {},
     "output_type": "execute_result"
    },
    {
     "data": {
      "image/png": "[encoded data removed]",
      "text/plain": [
       "<Figure size 432x288 with 1 Axes>"
      ]
     },
     "metadata": {
      "needs_background": "light"
     },
     "output_type": "display_data"
    }
   ],
   "source": [
    "#A continuación generamos la gráfica de las funciones\n",
    "\n",
    "N=10*2\n",
    "x=np.linspace(0,10,N)\n",
    "y1=np.sqrt(x)\n",
    "y2=x**3\n",
    "plt.fill_between(x,y1,y2)\n",
    "plt.text(2,600,'$\\mathcal{R}$',fontsize=18)\n",
    "plt.text(8.5,400,'$\\mathcal{D}$',fontsize=18)"
   ]
  },
  {
   "cell_type": "markdown",
   "metadata": {},
   "source": [
    "Con la gráfica visualizada, proseguimos a realizar la función que integre el área en base a numeros aleatorios"
   ]
  },
  {
   "cell_type": "code",
   "execution_count": 4,
   "metadata": {},
   "outputs": [],
   "source": [
    "def f1(x):\n",
    "    return np.sqrt(x)-x**3"
   ]
  },
  {
   "cell_type": "markdown",
   "metadata": {},
   "source": [
    "El cálculo integral queda de la siguiente manera:\n",
    "\n",
    "$$R(\\mathcal{D})=\\int_{0}^{10}(\\sqrt(x)-x^3)\\text{d}x.$$\n"
   ]
  },
  {
   "cell_type": "code",
   "execution_count": 5,
   "metadata": {},
   "outputs": [],
   "source": [
    "def int_Montecarlo(f,N):\n",
    "    #Generación de números aleatorios en x\n",
    "    x=np.random.rand(N)\n",
    "    #Evaluación de la función\n",
    "    yi=f(x)\n",
    "    #Regresamos el promedio\n",
    "    return np.mean(yi)"
   ]
  },
  {
   "cell_type": "code",
   "execution_count": 6,
   "metadata": {},
   "outputs": [
    {
     "data": {
      "text/plain": [
       "0.4169222775494037"
      ]
     },
     "execution_count": 6,
     "metadata": {},
     "output_type": "execute_result"
    }
   ],
   "source": [
    "#Analizamos la función con la integración\n",
    "N = 10**6\n",
    "int_Montecarlo(f1,N)"
   ]
  },
  {
   "cell_type": "code",
   "execution_count": 7,
   "metadata": {},
   "outputs": [],
   "source": [
    "#Ahora definimos las regiones en las que caen dentro del área de interés, \n",
    "# de tal forma que el retorno son los valores que sí caen dentro\n",
    "def reg(x,y):\n",
    "    cond1=y<=np.sqrt(x)\n",
    "    cond2=y>=x**3\n",
    "    return cond1&cond2"
   ]
  },
  {
   "cell_type": "code",
   "execution_count": 8,
   "metadata": {},
   "outputs": [
    {
     "data": {
      "text/plain": [
       "0.41586"
      ]
     },
     "execution_count": 8,
     "metadata": {},
     "output_type": "execute_result"
    }
   ],
   "source": [
    "#Con ello, calculamos el promedio\n",
    "\n",
    "N=10**5\n",
    "x=np.random.rand(N)\n",
    "y=np.random.rand(N)\n",
    "\n",
    "b=reg(x,y)\n",
    "np.mean(b)"
   ]
  }
 ],
 "metadata": {
  "kernelspec": {
   "display_name": "Python 3",
   "language": "python",
   "name": "python3"
  },
  "language_info": {
   "codemirror_mode": {
    "name": "ipython",
    "version": 3
   },
   "file_extension": ".py",
   "mimetype": "text/x-python",
   "name": "python",
   "nbconvert_exporter": "python",
   "pygments_lexer": "ipython3",
   "version": "3.7.4"
  }
 },
 "nbformat": 4,
 "nbformat_minor": 2
}
